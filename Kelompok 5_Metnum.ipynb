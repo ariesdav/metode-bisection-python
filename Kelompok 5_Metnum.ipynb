{
  "metadata": {
    "kernelspec": {
      "name": "python",
      "display_name": "Python (Pyodide)",
      "language": "python"
    },
    "language_info": {
      "codemirror_mode": {
        "name": "python",
        "version": 3
      },
      "file_extension": ".py",
      "mimetype": "text/x-python",
      "name": "python",
      "nbconvert_exporter": "python",
      "pygments_lexer": "ipython3",
      "version": "3.8"
    }
  },
  "nbformat_minor": 4,
  "nbformat": 4,
  "cells": [
    {
      "cell_type": "code",
      "source": "import numpy as np\nimport pandas as pd\n    \ndef bisection(f, a, b, tol):\n    if f(a) * f(b) >= 0:\n        return 'Interval salah! Cobalah interval lainnya yang benar!', None\n\n    iterations = []\n    i = 1\n    while True:\n        c = (a + b) / 2\n        f_a = f(a)\n        f_b = f(b)\n        f_c = f(c)\n        width = abs(b - c)\n        iterations.append([i, round(a, 2), round(c, 2), round(b, 2), round(f_a, 2), round(f_c, 2), round(f_b, 2), round(width, 2)])\n        if width < tol:\n            break\n        if f_c == 0:\n            break\n        if f_a * f_c > 0:\n            a = c\n        else:\n            b = c\n        i += 1\n\n    result = {'Akar persamaan f(x)': round(c, 2), 'Jumlah iterasi': i}\n    df_iterations = pd.DataFrame(iterations, columns=['Iterasi', 'a', 'c', 'b', 'f(a)', 'f(c)', 'f(b)', 'Lebar Selang'])\n    return result, df_iterations\n\nf = lambda x: x**3 - 3*x**2 - 0.5\na=0 \nb=3.5 \ntol=0.02\n\nresult, df_iterations = bisection(f, a, b, tol)\nprint(\"Tabel Iterasi:\")\nprint(df_iterations)\nprint(\"\\nHasil Akhir:\")\nprint(result)\n",
      "metadata": {
        "trusted": true
      },
      "outputs": [
        {
          "name": "stdout",
          "text": "Tabel Iterasi:\n   Iterasi     a     c     b  f(a)  f(c)  f(b)  Lebar Selang\n0        1  0.00  1.75  3.50 -0.50 -4.33  5.62          1.75\n1        2  1.75  2.62  3.50 -4.33 -3.08  5.62          0.88\n2        3  2.62  3.06  3.50 -3.08  0.09  5.62          0.44\n3        4  2.62  2.84  3.06 -3.08 -1.76  0.09          0.22\n4        5  2.84  2.95  3.06 -1.76 -0.91  0.09          0.11\n5        6  2.95  3.01  3.06 -0.91 -0.43  0.09          0.05\n6        7  3.01  3.04  3.06 -0.43 -0.18  0.09          0.03\n7        8  3.04  3.05  3.06 -0.18 -0.05  0.09          0.01\n\nHasil Akhir:\n{'Akar persamaan f(x)': 3.05, 'Jumlah iterasi': 8}\n",
          "output_type": "stream"
        }
      ],
      "execution_count": 7
    },
    {
      "cell_type": "code",
      "source": "",
      "metadata": {
        "trusted": true
      },
      "outputs": [],
      "execution_count": null
    },
    {
      "cell_type": "code",
      "source": "",
      "metadata": {
        "trusted": true
      },
      "outputs": [],
      "execution_count": null
    }
  ]
}